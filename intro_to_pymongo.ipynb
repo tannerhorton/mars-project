{
 "cells": [
  {
   "cell_type": "code",
   "execution_count": 1,
   "metadata": {
    "scrolled": true
   },
   "outputs": [
    {
     "data": {
      "text/plain": [
       "'4.3.3'"
      ]
     },
     "execution_count": 1,
     "metadata": {},
     "output_type": "execute_result"
    }
   ],
   "source": [
    "# Module used to connect Python with MongoDB\n",
    "import pymongo\n",
    "pymongo.version"
   ]
  },
  {
   "cell_type": "code",
   "execution_count": null,
   "metadata": {},
   "outputs": [],
   "source": [
    "# The default port used by MongoDB is 27017, think of this as SQL Alchemy magic cell, not an engine but similar \n",
    "# https://docs.mongodb.com/manual/reference/default-mongodb-port/\n",
    "conn = 'mongodb://localhost:27017'\n",
    "client = pymongo.MongoClient(conn)\n",
    "# connection to local host is your computer \n",
    "# Define the 'classDB' database in Mongo\n",
    "db = client.classDB"
   ]
  },
  {
   "cell_type": "code",
   "execution_count": 3,
   "metadata": {},
   "outputs": [
    {
     "ename": "NameError",
     "evalue": "name 'db' is not defined",
     "output_type": "error",
     "traceback": [
      "\u001b[0;31m---------------------------------------------------------------------------\u001b[0m",
      "\u001b[0;31mNameError\u001b[0m                                 Traceback (most recent call last)",
      "Input \u001b[0;32mIn [3]\u001b[0m, in \u001b[0;36m<cell line: 2>\u001b[0;34m()\u001b[0m\n\u001b[1;32m      1\u001b[0m \u001b[38;5;66;03m# Insert a document into the 'classroom' collection, code below is the same functions used from previous class \u001b[39;00m\n\u001b[0;32m----> 2\u001b[0m \u001b[43mdb\u001b[49m\u001b[38;5;241m.\u001b[39mclassroom\u001b[38;5;241m.\u001b[39minsert_one(\n\u001b[1;32m      3\u001b[0m     {\n\u001b[1;32m      4\u001b[0m         \u001b[38;5;124m'\u001b[39m\u001b[38;5;124mname\u001b[39m\u001b[38;5;124m'\u001b[39m: \u001b[38;5;124m'\u001b[39m\u001b[38;5;124mAhmed\u001b[39m\u001b[38;5;124m'\u001b[39m,\n\u001b[1;32m      5\u001b[0m         \u001b[38;5;124m'\u001b[39m\u001b[38;5;124mrow\u001b[39m\u001b[38;5;124m'\u001b[39m: \u001b[38;5;241m3\u001b[39m,\n\u001b[1;32m      6\u001b[0m         \u001b[38;5;124m'\u001b[39m\u001b[38;5;124mfavorite_python_library\u001b[39m\u001b[38;5;124m'\u001b[39m: \u001b[38;5;124m'\u001b[39m\u001b[38;5;124mMatplotlib\u001b[39m\u001b[38;5;124m'\u001b[39m,\n\u001b[1;32m      7\u001b[0m         \u001b[38;5;124m'\u001b[39m\u001b[38;5;124mhobbies\u001b[39m\u001b[38;5;124m'\u001b[39m: [\u001b[38;5;124m'\u001b[39m\u001b[38;5;124mRunning\u001b[39m\u001b[38;5;124m'\u001b[39m, \u001b[38;5;124m'\u001b[39m\u001b[38;5;124mStargazing\u001b[39m\u001b[38;5;124m'\u001b[39m, \u001b[38;5;124m'\u001b[39m\u001b[38;5;124mReading\u001b[39m\u001b[38;5;124m'\u001b[39m]\n\u001b[1;32m      8\u001b[0m     }\n\u001b[1;32m      9\u001b[0m )\n\u001b[1;32m     11\u001b[0m \u001b[38;5;66;03m# Query the classroom collection.\u001b[39;00m\n\u001b[1;32m     12\u001b[0m classroom \u001b[38;5;241m=\u001b[39m db\u001b[38;5;241m.\u001b[39mclassroom\u001b[38;5;241m.\u001b[39mfind()\n",
      "\u001b[0;31mNameError\u001b[0m: name 'db' is not defined"
     ]
    }
   ],
   "source": [
    "# Insert a document into the 'classroom' collection, code below is the same functions used from previous class \n",
    "db.classroom.insert_one(\n",
    "    {\n",
    "        'name': 'Ahmed',\n",
    "        'row': 3,\n",
    "        'favorite_python_library': 'Matplotlib',\n",
    "        'hobbies': ['Running', 'Stargazing', 'Reading']\n",
    "    }\n",
    ")\n",
    "\n",
    "# Query the classroom collection.\n",
    "classroom = db.classroom.find()\n",
    "\n",
    "# See the data in collection\n",
    "for student in classroom:\n",
    "    print(student)"
   ]
  },
  {
   "cell_type": "code",
   "execution_count": null,
   "metadata": {},
   "outputs": [],
   "source": [
    "# Update a document\n",
    "db.classroom.update_one(\n",
    "    {'name': 'Ahmed'},\n",
    "    {'$set':\n",
    "        {'row': 4}\n",
    "     }\n",
    ")\n",
    "\n",
    "# Query the classroom collection\n",
    "classroom = db.classroom.find()\n",
    "\n",
    "# See the change in collection.\n",
    "for student in classroom:\n",
    "    print(student)"
   ]
  },
  {
   "cell_type": "code",
   "execution_count": null,
   "metadata": {},
   "outputs": [],
   "source": [
    "# Add an item to a document array\n",
    "db.classroom.update_one(\n",
    "    {'name': 'Ahmed'},\n",
    "    {'$push':\n",
    "        {'hobbies': 'Listening to country music'}\n",
    "     }\n",
    ")\n",
    "\n",
    "# Query the classroom collection.\n",
    "classroom = db.classroom.find()\n",
    "\n",
    "# See the change in collection.\n",
    "for student in classroom:\n",
    "    print(student)"
   ]
  },
  {
   "cell_type": "code",
   "execution_count": null,
   "metadata": {},
   "outputs": [],
   "source": [
    "# Delete a field from a document\n",
    "db.classroom.update_one({'name': 'Ahmed'},\n",
    "                        {'$unset':\n",
    "                         {'row': \"\"}\n",
    "                         }\n",
    "                        )\n",
    "\n",
    "# Query the classroom collection\n",
    "classroom = db.classroom.find()\n",
    "\n",
    "# See the change in collection.\n",
    "for student in classroom:\n",
    "    print(student)"
   ]
  },
  {
   "cell_type": "code",
   "execution_count": null,
   "metadata": {},
   "outputs": [],
   "source": [
    "# Delete a document from a collection\n",
    "db.classroom.delete_one(\n",
    "    {'name': 'Ahmed'}\n",
    ")\n",
    "\n",
    "# Query the classroom collection\n",
    "classroom = db.classroom.find()\n",
    "\n",
    "# See the change in collection.\n",
    "for student in classroom:\n",
    "    print(student)"
   ]
  },
  {
   "cell_type": "code",
   "execution_count": null,
   "metadata": {},
   "outputs": [],
   "source": []
  }
 ],
 "metadata": {
  "kernelspec": {
   "display_name": "PythonData",
   "language": "python",
   "name": "pythondata"
  },
  "language_info": {
   "codemirror_mode": {
    "name": "ipython",
    "version": 3
   },
   "file_extension": ".py",
   "mimetype": "text/x-python",
   "name": "python",
   "nbconvert_exporter": "python",
   "pygments_lexer": "ipython3",
   "version": "3.9.12"
  }
 },
 "nbformat": 4,
 "nbformat_minor": 2
}
